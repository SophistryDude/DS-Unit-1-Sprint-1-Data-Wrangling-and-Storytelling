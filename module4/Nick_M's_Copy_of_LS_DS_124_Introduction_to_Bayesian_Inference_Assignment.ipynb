{
  "nbformat": 4,
  "nbformat_minor": 0,
  "metadata": {
    "colab": {
      "name": "Copy of LS_DS_124_Introduction_to_Bayesian_Inference_Assignment.ipynb",
      "provenance": [],
      "collapsed_sections": [],
      "include_colab_link": true
    },
    "kernelspec": {
      "name": "python3",
      "display_name": "Python 3"
    }
  },
  "cells": [
    {
      "cell_type": "markdown",
      "metadata": {
        "id": "view-in-github",
        "colab_type": "text"
      },
      "source": [
        "<a href=\"https://colab.research.google.com/github/SophistryDude/DS-Unit-1-Sprint-1-Data-Wrangling-and-Storytelling/blob/master/module4/Nick_M's_Copy_of_LS_DS_124_Introduction_to_Bayesian_Inference_Assignment.ipynb\" target=\"_parent\"><img src=\"https://colab.research.google.com/assets/colab-badge.svg\" alt=\"Open In Colab\"/></a>"
      ]
    },
    {
      "cell_type": "markdown",
      "metadata": {
        "id": "H7OLbevlbd_Z",
        "colab_type": "text"
      },
      "source": [
        "# Lambda School Data Science Module 124\n",
        "\n",
        "## Introduction to Bayesian Inference\n",
        "\n",
        "\n"
      ]
    },
    {
      "cell_type": "markdown",
      "metadata": {
        "id": "P-DzzRk5bf0z",
        "colab_type": "text"
      },
      "source": [
        "## Assignment - Code it up!\n",
        "\n",
        "We used pure math to apply Bayes Theorem to drug tests. Now write Python code to reproduce the results! This is purposefully open ended - you'll have to think about how you should represent probabilities and events. You can and should look things up.\n",
        "\n",
        "Specific goals/targets:\n",
        "\n",
        "### 1) Write a function \n",
        "\n",
        "`def prob_drunk_given_positive(prob_drunk_prior, false_positive_rate, true_positive_rate):` \n",
        "\n",
        "You should only truly need these three values in order to apply Bayes Theorem. In this example, imagine that individuals are taking a breathalyzer test with an 8% false positive rate, a 100% true positive rate, and that our prior belief about drunk driving in the population is 1/1000. \n",
        " - What is the probability that a person is drunk after one positive breathalyzer test?\n",
        " - What is the probability that a person is drunk after two positive breathalyzer tests?\n",
        " - How many positive breathalyzer tests are needed in order to have a probability that's greater than 95% that a person is drunk beyond the legal limit?\n"
      ]
    },
    {
      "cell_type": "code",
      "metadata": {
        "id": "xpVhZyUnbf7o",
        "colab_type": "code",
        "colab": {}
      },
      "source": [
        "# create a function by definition that we can use for our Beyesian probility\n",
        "import pandas as pd\n",
        "import numpy as np\n",
        "import matplotlib.pyplot as plt\n",
        "from scipy import stats\n",
        "\n",
        "\n",
        "def prob_drunk_given_positive(prob_drunk_prior, false_pos_rate, true_pos_rate):\n",
        "  numerator = true_pos_rate * prob_drunk_prior\n",
        "  denominator = numerator + ((1-prob_drunk_prior) * false_pos_rate)\n",
        "  prob_drunk_given_positive = numerator / denominator\n",
        "  return (prob_drunk_given_positive)"
      ],
      "execution_count": 52,
      "outputs": []
    },
    {
      "cell_type": "code",
      "metadata": {
        "id": "IEblU3sWq2kv",
        "colab_type": "code",
        "colab": {
          "base_uri": "https://localhost:8080/",
          "height": 34
        },
        "outputId": "e52d57d3-2949-437c-8c85-184dbb4a917c"
      },
      "source": [
        "#First result is only 1.2% This is probably why breathalyzers are not admissable in court\n",
        "First_breathalyzer = prob_drunk_given_positive(1/1000, 0.08, 1)\n",
        "First_breathalyzer"
      ],
      "execution_count": 51,
      "outputs": [
        {
          "output_type": "execute_result",
          "data": {
            "text/plain": [
              "0.012357884330202669"
            ]
          },
          "metadata": {
            "tags": []
          },
          "execution_count": 51
        }
      ]
    },
    {
      "cell_type": "code",
      "metadata": {
        "id": "LI7WWBEJrEuC",
        "colab_type": "code",
        "colab": {
          "base_uri": "https://localhost:8080/",
          "height": 34
        },
        "outputId": "4574fe65-ead0-4873-ea57-d92e5aa8034d"
      },
      "source": [
        "Second_breathalyzer = prob_drunk_given_positive(First_breathalyzer, 0.08, 1)\n",
        "Second_breathalyzer"
      ],
      "execution_count": 54,
      "outputs": [
        {
          "output_type": "execute_result",
          "data": {
            "text/plain": [
              "0.13525210993291495"
            ]
          },
          "metadata": {
            "tags": []
          },
          "execution_count": 54
        }
      ]
    },
    {
      "cell_type": "code",
      "metadata": {
        "id": "IYfTifrorPtj",
        "colab_type": "code",
        "colab": {
          "base_uri": "https://localhost:8080/",
          "height": 34
        },
        "outputId": "a4f85b95-367d-40f7-f790-3ac7a35f418e"
      },
      "source": [
        "Third_breathalyzer = prob_drunk_given_positive(Second_breathalyzer, 0.08, 1)\n",
        "Third_breathalyzer"
      ],
      "execution_count": 56,
      "outputs": [
        {
          "output_type": "execute_result",
          "data": {
            "text/plain": [
              "0.6615996951348605"
            ]
          },
          "metadata": {
            "tags": []
          },
          "execution_count": 56
        }
      ]
    },
    {
      "cell_type": "code",
      "metadata": {
        "id": "BVY9LxgNxA-b",
        "colab_type": "code",
        "colab": {
          "base_uri": "https://localhost:8080/",
          "height": 34
        },
        "outputId": "ffba48a5-2baf-4c66-c86e-720983ed3678"
      },
      "source": [
        "# Above 95%\n",
        "Fourth_breathalyzer = prob_drunk_given_positive(Third_breathalyzer, 0.08, 1)\n",
        "Fourth_breathalyzer"
      ],
      "execution_count": 58,
      "outputs": [
        {
          "output_type": "execute_result",
          "data": {
            "text/plain": [
              "0.9606895076105054"
            ]
          },
          "metadata": {
            "tags": []
          },
          "execution_count": 58
        }
      ]
    },
    {
      "cell_type": "markdown",
      "metadata": {
        "id": "nhOAsLjvCSLF",
        "colab_type": "text"
      },
      "source": [
        "### 2) In your own words, summarize the difference between Bayesian and Frequentist statistics\n",
        "\n",
        "If you're unsure where to start, check out [this blog post of Bayes theorem with Python](https://dataconomy.com/2015/02/introduction-to-bayes-theorem-with-python/)."
      ]
    },
    {
      "cell_type": "markdown",
      "metadata": {
        "id": "AADlIVfgDztY",
        "colab_type": "text"
      },
      "source": [
        "Frequentist  statistics is the inferential analysis of data using the potentiality of the population mean laying within the sample data set. From this you can deduce if your data is accurate. \n",
        "\n",
        "Bayesian statistics differs because it's analyzing the possibility of an input that is represented. Since bayesian probability is a percentage of possible outcomes, it doesn't use a pvalue, statistical weight, or hypothesis rejection. "
      ]
    },
    {
      "cell_type": "markdown",
      "metadata": {
        "id": "AeAGBxWjCTv3",
        "colab_type": "text"
      },
      "source": [
        "### 3) Use the following Template to help come up with ideas for your Build Sprint Project: \n",
        "\n"
      ]
    },
    {
      "cell_type": "markdown",
      "metadata": {
        "id": "YgIaBr__C5Q2",
        "colab_type": "text"
      },
      "source": [
        "---\n",
        "\n",
        "## Idea 1:"
      ]
    },
    {
      "cell_type": "markdown",
      "metadata": {
        "id": "MwR6hTB1CiLR",
        "colab_type": "text"
      },
      "source": [
        "### You\n",
        "What do you care about?\n",
        "\n",
        "What do you know about?\n",
        "\n",
        "What decisions do you face?\n",
        "\n",
        "\n"
      ]
    },
    {
      "cell_type": "markdown",
      "metadata": {
        "id": "d5owPwlSClm2",
        "colab_type": "text"
      },
      "source": [
        "## What do you care about? ## \n",
        "Assessing whether Cognitive Function Theory is statistically significant. \n",
        "\n",
        "## What do you know about?##\n",
        "Multiple models of Cognitive Function Theory\n",
        "\n",
        "##What decisions do you face?##\n",
        "How to account for a known bias in self reporting. "
      ]
    },
    {
      "cell_type": "markdown",
      "metadata": {
        "id": "lorLHSkzClzC",
        "colab_type": "text"
      },
      "source": [
        "### Seven templates\n",
        "\n",
        "In order to better understand the prompts here, please review the [Priceonomics Content Marketing Templates](https://priceonomics.com/introducing-priceonomics-content-marketing/)\n",
        "\n",
        "Can you apply the templates to your topics?\n",
        "\n",
        "**Geographic Variation:**\n",
        "\n",
        "**Trend related to the news:**\n",
        "\n",
        "**Who does that?:**\n",
        "\n",
        "**Answering a question people care about:**\n",
        "\n",
        "**Valuable to businesses:**\n",
        "\n",
        "**What's the most popular?:**\n",
        "\n",
        "**Cost/Money rankings:**\n"
      ]
    },
    {
      "cell_type": "markdown",
      "metadata": {
        "id": "cjxeN9D7Cygt",
        "colab_type": "text"
      },
      "source": [
        "**Geographic Variation:**\n",
        "\n",
        "The population variance of Cognitive Function Theory in differing countries seems to denote that the logos of a civilization dictate the cognitive function preferences of that population. \n"
      ]
    },
    {
      "cell_type": "markdown",
      "metadata": {
        "id": "BvrCIP3G2gon",
        "colab_type": "text"
      },
      "source": [
        "**Trend related to the news:**\n",
        "https://www.headstuff.org/topical/science/myers-briggs-big-five/\n"
      ]
    },
    {
      "cell_type": "markdown",
      "metadata": {
        "id": "wELN_nsA2mpA",
        "colab_type": "text"
      },
      "source": [
        "**Who does that?:**\n",
        "Psychologists, home-study, MBTI"
      ]
    },
    {
      "cell_type": "markdown",
      "metadata": {
        "id": "byYfj_-L2rJw",
        "colab_type": "text"
      },
      "source": [
        "**Answering a question people care about:**\n",
        "You should care about cognitive function theory because it helps you develop yourself and how to interact with others. "
      ]
    },
    {
      "cell_type": "markdown",
      "metadata": {
        "id": "_58v63OO2sFy",
        "colab_type": "text"
      },
      "source": [
        "**Cost/Money rankings:**\n",
        "I don't know. "
      ]
    },
    {
      "cell_type": "markdown",
      "metadata": {
        "id": "kZAkrgTUDCjF",
        "colab_type": "text"
      },
      "source": [
        "**Valuable to businesses:**\n",
        "Yes, systems in cognitive function theory such as MBTI have provided benefit to business over the years as a way to assess interaction styles between employees"
      ]
    },
    {
      "cell_type": "markdown",
      "metadata": {
        "id": "Xjpcoip821xm",
        "colab_type": "text"
      },
      "source": [
        "**What's the most popular?:**\n",
        "MBTI is the most popular, it's also the worst system in the field. "
      ]
    },
    {
      "cell_type": "markdown",
      "metadata": {
        "id": "3OXCCIT6C_p0",
        "colab_type": "text"
      },
      "source": [
        "### Misconceptions\n",
        "\n",
        "> Indented block\n",
        "\n",
        "\n",
        "\n",
        "##What misconceptions do people have about your topic?##\n",
        "Most people consider cognitive function theory to be as valid as horoscopes, zodiac, or astrology. To the casually informed, it's a way of identifying with a group and the mindset of that group. \n",
        "\n",
        "What Cognitive Function Theory really is is a taxonomy that is built upon behavior, unconscious preferences, and how you learned to deal with the world growing up. The most popular systems in Cognitive Function Theory (MBTI etc) became the face of the field by business adoption, and cultural acceptance. The popularity of these systems hurts the field by showcasing poor/outdated models and inappropriate definitions. "
      ]
    },
    {
      "cell_type": "markdown",
      "metadata": {
        "id": "3tNrndE9DD3-",
        "colab_type": "text"
      },
      "source": [
        "### Examples\n",
        "\n",
        "**What data storytelling example inspires you?**\n",
        "The gender-equality paradox is so counterintuitive that I have a hard time accepting the results, but the idea that we can pull the \"truth\" out of multi-factor analysis is inspiring. \n",
        "**Could you do a new hypothesis, for the same question?**\n",
        "gender-equality is inversely associated with conservative social hierarchy\n",
        "**Could you do a new question, for the same topic?**\n",
        "What is the rate of change in gender-equality based on access to education. \n",
        "**Could you do a new topic, with the same \"style\"?**\n",
        "Are there differences in equality between the various dichotomies of Cognitive Function Theory"
      ]
    },
    {
      "cell_type": "markdown",
      "metadata": {
        "id": "9rPtMFB6DN7B",
        "colab_type": "text"
      },
      "source": [
        "###Data\n",
        "\n",
        "Where could you search for data about your topic?"
      ]
    },
    {
      "cell_type": "markdown",
      "metadata": {
        "id": "s9hqjOlhDTDa",
        "colab_type": "text"
      },
      "source": [
        "\n",
        "*   https://www.kaggle.com/datasnaek/mbti-type\n",
        "\n",
        "*  https://github.com/topics/mbti\n",
        "\n"
      ]
    },
    {
      "cell_type": "markdown",
      "metadata": {
        "colab_type": "text",
        "id": "ld5MOaFaDVSK"
      },
      "source": [
        "---\n",
        "\n",
        "## Idea 2:"
      ]
    },
    {
      "cell_type": "markdown",
      "metadata": {
        "colab_type": "text",
        "id": "znhTWIlUDVSM"
      },
      "source": [
        "### You\n",
        "What do you care about?\n",
        "Chess\n",
        "What do you know about?\n",
        "Some aspects of Chess theory and history\n",
        "What decisions do you face?\n",
        "How to do stasticial analysis on chess without using book moves.  \n"
      ]
    },
    {
      "cell_type": "markdown",
      "metadata": {
        "colab_type": "text",
        "id": "3Gln5mYeDVSM"
      },
      "source": [
        ""
      ]
    },
    {
      "cell_type": "markdown",
      "metadata": {
        "colab_type": "text",
        "id": "W-njBredDVSN"
      },
      "source": [
        "### Seven templates\n",
        "\n",
        "In order to better understand the prompts here, please review the [Priceonomics Content Marketing Templates](https://priceonomics.com/introducing-priceonomics-content-marketing/)\n",
        "\n",
        "Can you apply the templates to your topics?\n",
        "\n",
        "**Geographic Variation:**\n",
        "Chess has more presence in former Soviet-Union countries, a growing presence in China, and a moderately low presence today compared to the cold war (and Bobby Fischer vs the USSR)\n",
        "**Trend related to the news:**\n",
        "https://www.theguardian.com/technology/2017/dec/07/alphazero-google-deepmind-ai-beats-champion-program-teaching-itself-to-play-four-hours\n",
        "\n",
        "A neural network was given the rules of chess, then taught itself via playing simulations, it is now the best chess entity on the planet, the 2nd is the codesourcing version of it, called LeelaZero.\n",
        "**Who does that?:**\n",
        "This question has too many potential answers, and none of them are particularly interesting. \n",
        "**Answering a question people care about:**\n",
        "Why are games like chess so difficult for humans to master, yet in games like Poker/Mtg, the humans dominate the computer. \n",
        "**Valuable to businesses:**\n",
        "On multiple levels. Chess involves long term planning, strategy, and tactics. The juxtaposition of combinatorial games vs imperfect knowledge games can give way to how human intuition develops.\n",
        "**What's the most popular?:**\n",
        "Probably the most popular thing related to chess is Bobby Fischer and the media created about him. \n",
        "**Cost/Money rankings:**\n",
        "Relatively low compared to most other competitive fields. Although the learning curve is so intense that teaching chess is lucrative to a lot of players. "
      ]
    },
    {
      "cell_type": "markdown",
      "metadata": {
        "colab_type": "text",
        "id": "pkOqHHL3DVSN"
      },
      "source": [
        ""
      ]
    },
    {
      "cell_type": "markdown",
      "metadata": {
        "colab_type": "text",
        "id": "njLQ3hLuDVSO"
      },
      "source": [
        "### Misconceptions\n",
        "\n",
        "What misconceptions do people have about your topic?"
      ]
    },
    {
      "cell_type": "markdown",
      "metadata": {
        "colab_type": "text",
        "id": "IzrUvaKeDVSO"
      },
      "source": [
        "Probably the most common misconception is that Chess is a game for intelligent people. While the best players are often very intelligent, your playing ability at chess does not correlate with your intelligence to any significant degree. Strategy devolved from chess is a learned trait, which means that it's a potentially valuable skill to have. "
      ]
    },
    {
      "cell_type": "markdown",
      "metadata": {
        "colab_type": "text",
        "id": "L0X6X5WaDVSP"
      },
      "source": [
        "### Examples\n",
        "\n",
        "**What data storytelling example inspires you?**\n",
        "The neural network Leela uses passive processing from volunteers to generate games she uses to fill her dataframe. She was never given any boolean computation, and with the data she has collected is one of the best computer engines ever created.\n",
        "**Could you do a new hypothesis, for the same question?**\n",
        "\n",
        "**Could you do a new question, for the same topic?**\n",
        "Can a neural network become the best go player (combinatorial games)?\n",
        "Can a neural network become the best Poker player (hidden information)?\n",
        "**Could you do a new topic, with the same \"style\"?**\n",
        "Can a neural network pass the Turing Test?"
      ]
    },
    {
      "cell_type": "markdown",
      "metadata": {
        "colab_type": "text",
        "id": "fDdHExa0DVSP"
      },
      "source": [
        ""
      ]
    },
    {
      "cell_type": "markdown",
      "metadata": {
        "colab_type": "text",
        "id": "CxgSpiwYDVSQ"
      },
      "source": [
        "###Data\n",
        "\n",
        "**Where could you search for data about your topic?**\n",
        "I don't know where I would focus on chess"
      ]
    },
    {
      "cell_type": "markdown",
      "metadata": {
        "id": "uWgWjp3PQ3Sq",
        "colab_type": "text"
      },
      "source": [
        "## Resources"
      ]
    },
    {
      "cell_type": "markdown",
      "metadata": {
        "id": "QRgHqmYIQ9qn",
        "colab_type": "text"
      },
      "source": [
        "- [Worked example of Bayes rule calculation](https://en.wikipedia.org/wiki/Bayes'_theorem#Examples) (helpful as it fully breaks out the denominator)\n",
        "- [Source code for mvsdist in scipy](https://github.com/scipy/scipy/blob/90534919e139d2a81c24bf08341734ff41a3db12/scipy/stats/morestats.py#L139)"
      ]
    },
    {
      "cell_type": "markdown",
      "metadata": {
        "id": "GP7Jv1XvwtkX",
        "colab_type": "text"
      },
      "source": [
        "## Stretch Goals:\n",
        "\n",
        "- Go back and study the content from Modules 1 & 2 & 3 to make sure that you're really comfortable with them.\n",
        "- Apply a Bayesian technique to a problem you previously worked (in an assignment or project work) on from a frequentist (standard) perspective\n",
        "- Check out [PyMC3](https://docs.pymc.io/) (note this goes beyond hypothesis tests into modeling) - read the guides and work through some examples\n",
        "- Take PyMC3 further - see if you can build something with it!"
      ]
    }
  ]
}